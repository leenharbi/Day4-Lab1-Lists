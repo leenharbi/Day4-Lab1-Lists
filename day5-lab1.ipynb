{
 "cells": [
  {
   "cell_type": "markdown",
   "id": "590c8b43",
   "metadata": {},
   "source": [
    "# Leen alharbi\n",
    "-----------------\n",
    "Day5-Lab1-Lists"
   ]
  },
  {
   "cell_type": "markdown",
   "id": "98abff73",
   "metadata": {},
   "source": [
    "Given the following list : [5, 4, 17, 19, 30, 2, 7, 10, 45]"
   ]
  },
  {
   "cell_type": "code",
   "execution_count": null,
   "id": "14f93333",
   "metadata": {},
   "outputs": [],
   "source": [
    "lst=[5, 4, 17, 19, 30, 2, 7, 10, 45]"
   ]
  },
  {
   "cell_type": "markdown",
   "id": "a65e8687",
   "metadata": {},
   "source": [
    "Q1: Write a Python program to sum all the items in the list.\n",
    "\n",
    "Q2: Write a Python program to get the largest number from the list.\n"
   ]
  },
  {
   "cell_type": "code",
   "execution_count": 26,
   "id": "78bdf33e",
   "metadata": {},
   "outputs": [
    {
     "name": "stdout",
     "output_type": "stream",
     "text": [
      "139\n",
      "Largest element is: 45\n"
     ]
    }
   ],
   "source": [
    "print(sum(lst))\n",
    "lst.sort()\n",
    "print(\"Largest element is:\", lst[-1])"
   ]
  },
  {
   "cell_type": "markdown",
   "id": "6cb96c07",
   "metadata": {},
   "source": [
    "-------------------\n",
    "Q3: using List Comprehension , create a new list from the above list containing only even numbers."
   ]
  },
  {
   "cell_type": "code",
   "execution_count": 27,
   "id": "41aca6d4",
   "metadata": {},
   "outputs": [
    {
     "name": "stdout",
     "output_type": "stream",
     "text": [
      "2 4 10 30 "
     ]
    }
   ],
   "source": [
    "for num in lst:\n",
    " \n",
    "    if num % 2 == 0:\n",
    "        print(num, end=\" \")"
   ]
  },
  {
   "cell_type": "markdown",
   "id": "44340e47",
   "metadata": {},
   "source": [
    "Q4: use list slicing to get a new list from the previous list starting from the start to the 5th element in the list."
   ]
  },
  {
   "cell_type": "code",
   "execution_count": 30,
   "id": "2f9e36ec",
   "metadata": {},
   "outputs": [
    {
     "name": "stdout",
     "output_type": "stream",
     "text": [
      "[2, 4, 5, 7, 10]\n"
     ]
    }
   ],
   "source": [
    "print(lst[0:5])"
   ]
  }
 ],
 "metadata": {
  "kernelspec": {
   "display_name": "Python 3 (ipykernel)",
   "language": "python",
   "name": "python3"
  },
  "language_info": {
   "codemirror_mode": {
    "name": "ipython",
    "version": 3
   },
   "file_extension": ".py",
   "mimetype": "text/x-python",
   "name": "python",
   "nbconvert_exporter": "python",
   "pygments_lexer": "ipython3",
   "version": "3.9.7"
  }
 },
 "nbformat": 4,
 "nbformat_minor": 5
}
